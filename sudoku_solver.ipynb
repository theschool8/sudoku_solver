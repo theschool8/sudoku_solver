{
  "nbformat": 4,
  "nbformat_minor": 0,
  "metadata": {
    "colab": {
      "name": "sudoku solver.ipynb",
      "provenance": [],
      "authorship_tag": "ABX9TyMFavrv7Qjwyi9G6WQo+/8Q",
      "include_colab_link": true
    },
    "kernelspec": {
      "name": "python3",
      "display_name": "Python 3"
    }
  },
  "cells": [
    {
      "cell_type": "markdown",
      "metadata": {
        "id": "view-in-github",
        "colab_type": "text"
      },
      "source": [
        "<a href=\"https://colab.research.google.com/github/theschool8/sudoku_solver/blob/main/sudoku_solver.ipynb\" target=\"_parent\"><img src=\"https://colab.research.google.com/assets/colab-badge.svg\" alt=\"Open In Colab\"/></a>"
      ]
    },
    {
      "cell_type": "code",
      "metadata": {
        "id": "XvMRcoWwod-k"
      },
      "source": [
        "sudoku = [[8, 0, 1, 9, 2, 0, 0, 0, 0], \n",
        "          [0, 4, 0, 8, 5, 0, 7, 2, 6], \n",
        "          [0, 5, 6, 0, 7, 3, 0, 9, 0], \n",
        "          [5, 9, 8, 0, 0, 4, 1, 0, 0],\n",
        "          [7, 0, 0, 0, 0, 0, 5, 3, 0],\n",
        "          [0, 0, 2, 6, 0, 0, 4, 0, 0],\n",
        "          [9, 0, 0, 3, 0, 0, 6, 8, 0],\n",
        "          [6, 8, 3, 1, 9, 0, 0, 5, 0],\n",
        "          [0, 0, 0, 0, 0, 0, 0, 1, 3]]"
      ],
      "execution_count": 9,
      "outputs": []
    },
    {
      "cell_type": "code",
      "metadata": {
        "colab": {
          "base_uri": "https://localhost:8080/"
        },
        "id": "7GBrTpFtxCLE",
        "outputId": "e9c32fcd-22af-4240-a72c-574f923dc138"
      },
      "source": [
        "import numpy as np\n",
        "print(np.matrix(sudoku))"
      ],
      "execution_count": 10,
      "outputs": [
        {
          "output_type": "stream",
          "text": [
            "[[8 0 1 9 2 0 0 0 0]\n",
            " [0 4 0 8 5 0 7 2 6]\n",
            " [0 5 6 0 7 3 0 9 0]\n",
            " [5 9 8 0 0 4 1 0 0]\n",
            " [7 0 0 0 0 0 5 3 0]\n",
            " [0 0 2 6 0 0 4 0 0]\n",
            " [9 0 0 3 0 0 6 8 0]\n",
            " [6 8 3 1 9 0 0 5 0]\n",
            " [0 0 0 0 0 0 0 1 3]]\n"
          ],
          "name": "stdout"
        }
      ]
    },
    {
      "cell_type": "code",
      "metadata": {
        "id": "v_dM9LLDqHas"
      },
      "source": [
        "def possible(grid, row,column,n):\n",
        "  for i in range(9):\n",
        "    if grid[row][i] == n:\n",
        "      return False\n",
        "  for j in range(9):\n",
        "    if grid[j][column] == n:\n",
        "      return False\n",
        "  x0 = (row // 3) * 3\n",
        "  y0 = (column // 3) * 3\n",
        "  for i in range(3):\n",
        "    for j in range(3):\n",
        "      if grid[i+x0][j+y0] == n:\n",
        "        return False\n",
        "  return True"
      ],
      "execution_count": 16,
      "outputs": []
    },
    {
      "cell_type": "code",
      "metadata": {
        "id": "gcu-pnMEt4gm"
      },
      "source": [
        "def solve(grid):\n",
        "  for i in range(9):\n",
        "    for j in range(9):\n",
        "      if grid[i][j] == 0:\n",
        "        for n in range(1,10):\n",
        "          if possible(grid, i, j, n):\n",
        "            grid[i][j] = n\n",
        "            solve(grid)\n",
        "            grid[i][j] = 0\n",
        "        return\n",
        "  print(np.matrix(grid))"
      ],
      "execution_count": 17,
      "outputs": []
    },
    {
      "cell_type": "code",
      "metadata": {
        "colab": {
          "base_uri": "https://localhost:8080/"
        },
        "id": "GAqIgbZNwLoD",
        "outputId": "3c523ac0-6e2f-441d-cd83-adc896e78e2d"
      },
      "source": [
        "solve(sudoku)"
      ],
      "execution_count": 18,
      "outputs": [
        {
          "output_type": "stream",
          "text": [
            "[[8 7 1 9 2 6 3 4 5]\n",
            " [3 4 9 8 5 1 7 2 6]\n",
            " [2 5 6 4 7 3 8 9 1]\n",
            " [5 9 8 7 3 4 1 6 2]\n",
            " [7 6 4 2 1 9 5 3 8]\n",
            " [1 3 2 6 8 5 4 7 9]\n",
            " [9 1 5 3 4 2 6 8 7]\n",
            " [6 8 3 1 9 7 2 5 4]\n",
            " [4 2 7 5 6 8 9 1 3]]\n"
          ],
          "name": "stdout"
        }
      ]
    }
  ]
}